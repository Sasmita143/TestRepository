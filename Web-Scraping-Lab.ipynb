{
 "cells": [
  {
   "cell_type": "markdown",
   "metadata": {},
   "source": [
    "<p style=\"text-align:center\">\n",
    "    <a href=\"https://skills.network/?utm_medium=Exinfluencer&utm_source=Exinfluencer&utm_content=000026UJ&utm_term=10006555&utm_id=NA-SkillsNetwork-Channel-SkillsNetworkCoursesIBMDA0321ENSkillsNetwork928-2022-01-01\" target=\"_blank\">\n",
    "    <img src=\"https://cf-courses-data.s3.us.cloud-object-storage.appdomain.cloud/assets/logos/SN_web_lightmode.png\" width=\"200\" alt=\"Skills Network Logo\"  />\n",
    "    </a>\n",
    "</p>\n"
   ]
  },
  {
   "cell_type": "markdown",
   "metadata": {},
   "source": [
    "# **Hands-on Lab : Web Scraping**\n"
   ]
  },
  {
   "cell_type": "markdown",
   "metadata": {},
   "source": [
    "Estimated time needed: **30 to 45** minutes\n"
   ]
  },
  {
   "cell_type": "markdown",
   "metadata": {},
   "source": [
    "## Objectives\n"
   ]
  },
  {
   "cell_type": "markdown",
   "metadata": {},
   "source": [
    "In this lab you will perform the following:\n"
   ]
  },
  {
   "cell_type": "markdown",
   "metadata": {},
   "source": [
    "* Extract information from a given web site \n",
    "* Write the scraped data into a csv file.\n"
   ]
  },
  {
   "cell_type": "markdown",
   "metadata": {},
   "source": [
    "## Extract information from the given web site\n",
    "You will extract the data from the below web site: <br> \n"
   ]
  },
  {
   "cell_type": "code",
   "execution_count": 1,
   "metadata": {
    "tags": []
   },
   "outputs": [],
   "source": [
    "\n",
    "\n",
    "#this url contains the data you need to scrape\n",
    "url = \"https://cf-courses-data.s3.us.cloud-object-storage.appdomain.cloud/IBM-DA0321EN-SkillsNetwork/labs/datasets/Programming_Languages.html\""
   ]
  },
  {
   "cell_type": "markdown",
   "metadata": {},
   "source": [
    "The data you need to scrape is the **name of the programming language** and **average annual salary**.<br> It is a good idea to open the url in your web broswer and study the contents of the web page before you start to scrape.\n"
   ]
  },
  {
   "cell_type": "markdown",
   "metadata": {},
   "source": [
    "Import the required libraries\n"
   ]
  },
  {
   "cell_type": "code",
   "execution_count": 7,
   "metadata": {
    "tags": []
   },
   "outputs": [],
   "source": [
    "# Your code here\n",
    "import requests\n",
    "import csv\n",
    "from bs4 import BeautifulSoup\n"
   ]
  },
  {
   "cell_type": "markdown",
   "metadata": {},
   "source": [
    "Download the webpage at the url\n"
   ]
  },
  {
   "cell_type": "code",
   "execution_count": 3,
   "metadata": {
    "tags": []
   },
   "outputs": [
    {
     "name": "stdout",
     "output_type": "stream",
     "text": [
      "Webpage downloaded successfully!\n"
     ]
    }
   ],
   "source": [
    "# your code goes here\n",
    "# Download the webpage at the URL\n",
    "response = requests.get(url)\n",
    "\n",
    "# Check if the request was successful\n",
    "if response.status_code == 200:\n",
    "    data = response.text\n",
    "    print(\"Webpage downloaded successfully!\")\n",
    "else:\n",
    "    print(\"Failed to retrieve the webpage. Status code:\", response.status_code)\n",
    "\n",
    "\n"
   ]
  },
  {
   "cell_type": "markdown",
   "metadata": {},
   "source": [
    "Create a soup object\n"
   ]
  },
  {
   "cell_type": "code",
   "execution_count": 4,
   "metadata": {
    "tags": []
   },
   "outputs": [],
   "source": [
    "# your code goes here\n",
    "# Create a BeautifulSoup object to parse the HTML content\n",
    "soup = BeautifulSoup(data, \"html.parser\")\n"
   ]
  },
  {
   "cell_type": "markdown",
   "metadata": {},
   "source": [
    "Scrape the `Language name` and `annual average salary`.\n"
   ]
  },
  {
   "cell_type": "code",
   "execution_count": 5,
   "metadata": {},
   "outputs": [],
   "source": [
    "# your code goes here\n",
    "# Find the HTML table containing the programming languages and salaries\n",
    "table = soup.find('table')  # Locate the table in the webpage\n",
    "\n",
    "# Initialize a list to hold programming languages and their salaries\n",
    "programming_languages = []\n",
    "\n",
    "# Get all rows from the table (skip the header row)\n",
    "for row in table.find_all('tr')[1:]:  \n",
    "    # Get all columns in each row\n",
    "    cols = row.find_all('td')\n",
    "    \n",
    "    # Ensure that the row contains the expected number of columns\n",
    "    if len(cols) >= 2:  # Check if there are at least 2 columns\n",
    "        language_name = cols[0].getText().strip()  # Store the value in column 1 as language_name\n",
    "        average_salary = cols[1].getText().strip()  # Store the value in column 2 as average_salary\n",
    "        \n",
    "        # Append the language name and average salary to the list\n",
    "        programming_languages.append((language_name, average_salary))"
   ]
  },
  {
   "cell_type": "code",
   "execution_count": 11,
   "metadata": {
    "scrolled": true
   },
   "outputs": [
    {
     "name": "stdout",
     "output_type": "stream",
     "text": [
      "Row data: ['1', 'Python', 'Guido van Rossum', '$114,383', 'Easy']\n",
      "Language: Python, Salary Raw: '$114,383'\n",
      "Row data: ['2', 'Java', 'James Gosling', '$101,013', 'Easy']\n",
      "Language: Java, Salary Raw: '$101,013'\n",
      "Row data: ['3', 'R', 'Robert Gentleman, Ross Ihaka', '$92,037', 'Hard']\n",
      "Language: R, Salary Raw: '$92,037'\n",
      "Row data: ['4', 'Javascript', 'Netscape', '$110,981', 'Easy']\n",
      "Language: Javascript, Salary Raw: '$110,981'\n",
      "Row data: ['5', 'Swift', 'Apple', '$130,801', 'Easy']\n",
      "Language: Swift, Salary Raw: '$130,801'\n",
      "Row data: ['6', 'C++', 'Bjarne Stroustrup', '$113,865', 'Hard']\n",
      "Language: C++, Salary Raw: '$113,865'\n",
      "Row data: ['7', 'C#', 'Microsoft', '$88,726', 'Hard']\n",
      "Language: C#, Salary Raw: '$88,726'\n",
      "Row data: ['8', 'PHP', 'Rasmus Lerdorf', '$84,727', 'Easy']\n",
      "Language: PHP, Salary Raw: '$84,727'\n",
      "Row data: ['9', 'SQL', 'Donald D. Chamberlin, Raymond F. Boyce.', '$84,793', 'Easy']\n",
      "Language: SQL, Salary Raw: '$84,793'\n",
      "Row data: ['10', 'Go', 'Robert Griesemer, Ken Thompson, Rob Pike.', '$94,082', 'Difficult']\n",
      "Language: Go, Salary Raw: '$94,082'\n",
      "[('Python', '114383'), ('Java', '101013'), ('R', '92037'), ('Javascript', '110981'), ('Swift', '130801'), ('C++', '113865'), ('C#', '88726'), ('PHP', '84727'), ('SQL', '84793'), ('Go', '94082')]\n"
     ]
    }
   ],
   "source": [
    "# Your code goes here\n",
    "# Find the HTML table containing the programming languages and salaries\n",
    "table = soup.find('table')  # Locate the table in the webpage\n",
    "\n",
    "# Initialize a list to hold programming languages and their salaries\n",
    "programming_languages = []\n",
    "\n",
    "# Get all rows from the table (skip the header row)\n",
    "for row in table.find_all('tr')[1:]:  \n",
    "    # Get all columns in each row\n",
    "    cols = row.find_all('td')\n",
    "    \n",
    "    # Print the entire row to inspect the structure\n",
    "    print(\"Row data:\", [col.getText().strip() for col in cols])  # Debugging output to see all columns\n",
    "    \n",
    "    # Ensure that the row contains the expected number of columns\n",
    "    if len(cols) >= 4:  # Adjusted to check for at least 4 columns\n",
    "        language_name = cols[1].getText().strip()  # Store the value in column 2 as language_name\n",
    "        average_salary = cols[3].getText().strip()  # Store the value in column 4 as average_salary\n",
    "        \n",
    "        # Debugging output\n",
    "        print(f\"Language: {language_name}, Salary Raw: '{average_salary}'\")  # Print the raw salary\n",
    "        \n",
    "        # Clean the average_salary if needed (e.g., remove $ and commas)\n",
    "        average_salary_cleaned = average_salary.replace('$', '').replace(',', '').strip()\n",
    "        \n",
    "        # Append the language name and average salary to the list\n",
    "        programming_languages.append((language_name, average_salary_cleaned))\n",
    "\n",
    "# Print the final list for verification\n",
    "print(programming_languages)\n"
   ]
  },
  {
   "cell_type": "markdown",
   "metadata": {},
   "source": [
    "Save the scrapped data into a file named *popular-languages.csv*\n"
   ]
  },
  {
   "cell_type": "code",
   "execution_count": 12,
   "metadata": {
    "scrolled": true
   },
   "outputs": [
    {
     "name": "stdout",
     "output_type": "stream",
     "text": [
      "Data saved to popular-languages.csv\n"
     ]
    }
   ],
   "source": [
    "# your code goes here\n",
    "# Save the scraped data into a CSV file\n",
    "with open('popular-languages.csv', 'w', newline='') as file:\n",
    "    writer = csv.writer(file)\n",
    "    writer.writerow(['Language', 'Average Annual Salary'])  # Write the header\n",
    "    writer.writerows(programming_languages)  # Write the data rows\n",
    "\n",
    "print(\"Data saved to popular-languages.csv\")"
   ]
  },
  {
   "cell_type": "markdown",
   "metadata": {},
   "source": [
    "## Authors\n"
   ]
  },
  {
   "cell_type": "markdown",
   "metadata": {},
   "source": [
    "Ramesh Sannareddy\n"
   ]
  },
  {
   "cell_type": "markdown",
   "metadata": {},
   "source": [
    "### Other Contributors\n"
   ]
  },
  {
   "cell_type": "markdown",
   "metadata": {},
   "source": [
    "Rav Ahuja\n"
   ]
  },
  {
   "cell_type": "markdown",
   "metadata": {},
   "source": [
    "## Change Log\n"
   ]
  },
  {
   "cell_type": "markdown",
   "metadata": {},
   "source": [
    "|  Date (YYYY-MM-DD) |  Version | Changed By  |  Change Description |\n",
    "|---|---|---|---|\n",
    "| 2020-10-17  | 0.1  | Ramesh Sannareddy  |  Created initial version of the lab |\n"
   ]
  },
  {
   "cell_type": "markdown",
   "metadata": {},
   "source": [
    " Copyright &copy; 2020 IBM Corporation. This notebook and its source code are released under the terms of the [MIT License](https://cognitiveclass.ai/mit-license/?utm_medium=Exinfluencer&utm_source=Exinfluencer&utm_content=000026UJ&utm_term=10006555&utm_id=NA-SkillsNetwork-Channel-SkillsNetworkCoursesIBMDA0321ENSkillsNetwork928-2022-01-01).\n"
   ]
  }
 ],
 "metadata": {
  "kernelspec": {
   "display_name": "Python 3 (ipykernel)",
   "language": "python",
   "name": "python3"
  },
  "language_info": {
   "codemirror_mode": {
    "name": "ipython",
    "version": 3
   },
   "file_extension": ".py",
   "mimetype": "text/x-python",
   "name": "python",
   "nbconvert_exporter": "python",
   "pygments_lexer": "ipython3",
   "version": "3.11.5"
  }
 },
 "nbformat": 4,
 "nbformat_minor": 4
}
